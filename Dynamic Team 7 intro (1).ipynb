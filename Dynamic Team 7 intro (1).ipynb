{
 "cells": [
  {
   "cell_type": "markdown",
   "metadata": {},
   "source": [
    "Hello everyone we are Team 7! We are a diverse group coming from 3 continents.\n",
    "\n",
    "Paul is from Lebanon. He is an easy going person full of energy and always positive. He is always up for drinks and just met the perfect Team member Karen who was born in Mexico. She has a very Latin blood as her salsa skills and passion for drinking tequila show. \n",
    "She is very outgoing and loves eating outside with friends instead of cooking.Unlike Karen,\n",
    "Martina loves cooking and is the most Italian you can think of! She has olive skin color, is always positive, and her family business is a pasta factory. Haolin is from Qingdao,China.He is the artist of the group,  he can play the Piano, the Saxophone, and the Flute . Haolin's favorite place is Iceland and his favorite food is boiled fish. Like Haolin, Disha is also a music lover. She is from India with a passion for photography and traveling. Disha is an introvert - shy at first but won’t shut  up once she gets comfortable."
   ]
  },
  {
   "cell_type": "code",
   "execution_count": null,
   "metadata": {
    "cell_style": "center"
   },
   "outputs": [
    {
     "name": "stdout",
     "output_type": "stream",
     "text": [
      " ^ ^ ^ ^ ^ ^ ^ ^ ^ ^ ^ ^ ^ ^ ^ ^ ^ ^ ^ ^ ^ ^ ^ ^ ^ ^ ^ ^ ^ ^ ^ ^ ^ ^ ^ ^ ^ ^ ^ ^ \n",
      "\n",
      "Welcome\n",
      "\t to\n",
      "\t\t TEAM\n",
      "\t\t\t 7\n",
      "\t\t\t\t Introduction!\n",
      "\t\t\t\t\t\n",
      "\n",
      "\n",
      "Let us see how well you know us 😀!\n",
      "\n",
      "\n",
      " ^ ^ ^ ^ ^ ^ ^ ^ ^ ^ ^ ^ ^ ^ ^ ^ ^ ^ ^ ^ ^ ^ ^ ^ ^ ^ ^ ^ ^ ^ ^ ^ ^ ^ ^ ^ ^ ^ ^ ^   \n",
      "\n",
      "A bit of guidance:\n",
      "In this game, you will be able to know more about our Team. In order to do so you are gonna \n",
      "have to fill 10 Blank spaces in order to come out with a story for us.\n",
      "\n",
      " ^ ^ ^ ^ ^ ^ ^ ^ ^ ^ LET US START  ^ ^ ^ ^ ^ ^ ^ ^ ^ ^\n",
      "\n"
     ]
    }
   ],
   "source": [
    "## Dynamic Team Introduction ##\n",
    "# Team 7#\n",
    "print(f\"\"\"{' ^'*40} \n",
    "\n",
    "Welcome\\n\\t to\\n\\t\\t TEAM\\n\\t\\t\\t 7\\n\\t\\t\\t\\t Introduction!\\n\\t\\t\\t\\t\\t\n",
    "\n",
    "\\nLet us see how well you know us \\U0001f600!\\n\n",
    "\n",
    "{' ^'*40}   \n",
    "\n",
    "A bit of guidance:\n",
    "In this game, you will be able to know more about our Team. In order to do so you are gonna \n",
    "have to fill 10 Blank spaces in order to come out with a story for us.\n",
    "\n",
    "{' ^' *10} LET US START {' ^'*10}\n",
    "\"\"\")\n",
    "\n",
    "# 2 inputs/team member\n",
    "\n",
    "number_of_continents = input(prompt = \"How many girls do you think are there in our group? \")\n",
    "\n",
    "#Inputs for team member Disha\n",
    "traveling = input(prompt = \"Enter a Verb ending with 'ing': \")\n",
    "shy = input (prompt = \"Type an adjective that best describes your personality: \")\n",
    "\n",
    "\n",
    "#Inputs for team member Haolin\n",
    "favorite_instrument = input (prompt = \"Your favorite musical instrument is: \")\n",
    "priority_after_family = input (prompt = \"What is your first priority after family? \")\n",
    "\n",
    "#Inputs for team member Karen\n",
    "tequila = input (prompt = \"What is your favorite drink? \")\n",
    "salsa = input (prompt = \"What is your favorite type of Music? \")\n",
    "\n",
    "#Inputs for team member Martina\n",
    "\n",
    "family_business = input(prompt = \"What is your favorite Italian dish? \")\n",
    "skin_color = input(prompt = \"Insert an adjective: \")\n",
    "\n",
    "#Inputs for team member Paul\n",
    "\n",
    "verb_1 = input(prompt = \"Please enter a Verb ending with 'ing': \")\n",
    "\n",
    "{' ^'*40}\n",
    "\n",
    "#Team Story based on Inputs\n",
    "\n",
    "print(f\"\"\" \n",
    "\n",
    "\n",
    "Hello everyone we are Team 7! We are a diverse group coming from\n",
    "{number_of_continents} continents.\n",
    "\n",
    "Paul is from Lebanon. He is an easy {verb_1} person full of energy and always positive.\n",
    "He is always up for drinks and just met the perfect Team member Karen who was born in Mexico. \n",
    "She has a very Latin blood as her {salsa} skills and passion for drinking {tequila} show. \n",
    "She is very outgoing and loves eating outside with friends instead of cooking.Unlike \n",
    "Karen, Martina loves cooking and is the most Italian you can think of! She has {skin_color}\n",
    "skin color, is always positive, and her family business is a {family_business} factory. \n",
    "Haolin is from Qingdao,China.He is the artist of the group, he can play the {favorite_instrument},\n",
    "the Saxophone, and the Flute . Haolin's favorite place is Iceland and his favorite {priority_after_family}\n",
    "is boiled fish. Like Haolin, Disha is also a music lover. She is from India with a passion for \n",
    "photography and {traveling}. Disha is an introvert - {shy} at first but won’t shut  up once she \n",
    "gets comfortable.\n",
    " \n",
    "{' ^'*40}\n",
    "\n",
    "                             THANK YOU FOR PLAYING\n",
    "                        WE HOPE YOU ENJOYED OUR TEAM STORY \\U0001F923\n",
    "\n",
    "\n",
    "\n",
    "\"\"\")"
   ]
  },
  {
   "cell_type": "code",
   "execution_count": null,
   "metadata": {},
   "outputs": [],
   "source": []
  }
 ],
 "metadata": {
  "kernelspec": {
   "display_name": "Python 3",
   "language": "python",
   "name": "python3"
  },
  "language_info": {
   "codemirror_mode": {
    "name": "ipython",
    "version": 3
   },
   "file_extension": ".py",
   "mimetype": "text/x-python",
   "name": "python",
   "nbconvert_exporter": "python",
   "pygments_lexer": "ipython3",
   "version": "3.8.3"
  },
  "toc": {
   "base_numbering": 1,
   "nav_menu": {},
   "number_sections": true,
   "sideBar": true,
   "skip_h1_title": false,
   "title_cell": "Table of Contents",
   "title_sidebar": "Contents",
   "toc_cell": false,
   "toc_position": {},
   "toc_section_display": true,
   "toc_window_display": false
  },
  "varInspector": {
   "cols": {
    "lenName": 16,
    "lenType": 16,
    "lenVar": 40
   },
   "kernels_config": {
    "python": {
     "delete_cmd_postfix": "",
     "delete_cmd_prefix": "del ",
     "library": "var_list.py",
     "varRefreshCmd": "print(var_dic_list())"
    },
    "r": {
     "delete_cmd_postfix": ") ",
     "delete_cmd_prefix": "rm(",
     "library": "var_list.r",
     "varRefreshCmd": "cat(var_dic_list()) "
    }
   },
   "types_to_exclude": [
    "module",
    "function",
    "builtin_function_or_method",
    "instance",
    "_Feature"
   ],
   "window_display": false
  }
 },
 "nbformat": 4,
 "nbformat_minor": 4
}
